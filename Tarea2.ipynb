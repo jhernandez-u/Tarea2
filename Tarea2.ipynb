{
 "cells": [
  {
   "cell_type": "markdown",
   "metadata": {},
   "source": [
    "---\n",
    "https://www.hackerrank.com/challenges/py-if-else/problem"
   ]
  },
  {
   "cell_type": "code",
   "execution_count": null,
   "metadata": {},
   "outputs": [],
   "source": [
    "#!/bin/python3\n",
    "\n",
    "import math\n",
    "import os\n",
    "import random\n",
    "import re\n",
    "import sys\n",
    "\n",
    "\n",
    "\n",
    "if __name__ == '__main__':\n",
    "    n = int(input().strip())\n",
    "\n",
    "    if n % 2 != 0:\n",
    "        print (\"Weird\")\n",
    "    elif n in range(2,6):\n",
    "        print (\"Not Weird\")\n",
    "    elif n in range(6,21):\n",
    "        print (\"Weird\")\n",
    "    elif n > 20:\n",
    "        print (\"Not Weird\")"
   ]
  },
  {
   "cell_type": "markdown",
   "metadata": {},
   "source": [
    "----\n",
    "https://www.hackerrank.com/challenges/python-arithmetic-operators/problem"
   ]
  },
  {
   "cell_type": "code",
   "execution_count": null,
   "metadata": {},
   "outputs": [],
   "source": [
    "if __name__ == '__main__':\n",
    "    a = int(input())\n",
    "    b = int(input())\n",
    "\n",
    "    print (a+b)\n",
    "    print (a-b)\n",
    "    print (a*b)\n"
   ]
  },
  {
   "cell_type": "markdown",
   "metadata": {},
   "source": [
    "---\n",
    "https://www.hackerrank.com/challenges/python-division/problem"
   ]
  },
  {
   "cell_type": "code",
   "execution_count": null,
   "metadata": {},
   "outputs": [],
   "source": [
    "if __name__ == '__main__':\n",
    "    a = int(input())\n",
    "    b = int(input())\n",
    "\n",
    "    print(a//b)\n",
    "    print(a/b)\n",
    "    \n"
   ]
  },
  {
   "cell_type": "markdown",
   "metadata": {},
   "source": [
    "---\n",
    "https://www.hackerrank.com/challenges/python-loops/problem"
   ]
  },
  {
   "cell_type": "code",
   "execution_count": null,
   "metadata": {},
   "outputs": [],
   "source": [
    "if __name__ == '__main__':\n",
    "    n = int(input())\n",
    "\n",
    "    for m in range(0,n):\n",
    "        print(m**2)\n"
   ]
  },
  {
   "cell_type": "markdown",
   "metadata": {},
   "source": [
    "---\n",
    "https://www.hackerrank.com/challenges/write-a-function/problem"
   ]
  },
  {
   "cell_type": "code",
   "execution_count": null,
   "metadata": {},
   "outputs": [],
   "source": [
    "def is_leap(year):\n",
    "    leap = False\n",
    "    # Write your logic here\n",
    "    if year % 4 == 0 :\n",
    "        leap = True\n",
    "        if year % 100 == 0 and year % 400 != 0:\n",
    "            leap = False\n",
    "\n",
    "    return leap\n",
    "\n",
    "year = int(input())\n",
    "print(is_leap(year))"
   ]
  },
  {
   "cell_type": "markdown",
   "metadata": {},
   "source": [
    "---\n",
    "https://www.hackerrank.com/challenges/find-second-maximum-number-in-a-list/problem"
   ]
  },
  {
   "cell_type": "code",
   "execution_count": null,
   "metadata": {},
   "outputs": [],
   "source": [
    "if __name__ == '__main__':\n",
    "    n = int(input())\n",
    "    arr = map(int, input().split())\n",
    "    primero = float(\"-inf\")\n",
    "    segundo = float(\"-inf\")\n",
    "    for m in arr :\n",
    "        if m >= primero:\n",
    "            if segundo < -100 :\n",
    "                segundo = m\n",
    "            elif m > primero :\n",
    "                segundo = primero\n",
    "            primero = m\n",
    "        elif m > segundo or segundo == primero:\n",
    "            segundo = m\n",
    "    \n",
    "    print (segundo)\n"
   ]
  },
  {
   "cell_type": "markdown",
   "metadata": {},
   "source": [
    "---\n",
    "https://www.hackerrank.com/challenges/finding-the-percentage/problem"
   ]
  },
  {
   "cell_type": "code",
   "execution_count": null,
   "metadata": {},
   "outputs": [],
   "source": [
    "if __name__ == '__main__':\n",
    "    n = int(input())\n",
    "    student_marks = {}\n",
    "    for _ in range(n):\n",
    "        name, *line = input().split()\n",
    "        scores = list(map(float, line))\n",
    "        student_marks[name] = scores\n",
    "    query_name = input()\n",
    "    \n",
    "    encontrado = False\n",
    "    for estudiantes in student_marks.keys() :\n",
    "        if estudiantes == query_name :\n",
    "            encontrado = True\n",
    "            promedio = (student_marks[estudiantes][0] + student_marks[estudiantes][1] + student_marks[estudiantes][2]) / 3\n",
    "            break\n",
    "    \n",
    "    if encontrado == True :\n",
    "        print ('{0:.2f}'.format(promedio))"
   ]
  },
  {
   "cell_type": "markdown",
   "metadata": {},
   "source": [
    "---\n",
    "https://www.hackerrank.com/challenges/python-lists/problem"
   ]
  },
  {
   "cell_type": "code",
   "execution_count": null,
   "metadata": {},
   "outputs": [],
   "source": [
    "if __name__ == '__main__':\n",
    "    N = int(input())\n",
    "    \n",
    "    lista = []\n",
    "    for _ in range(N) :\n",
    "        linea = input().split()\n",
    "        if linea [0] == 'insert' :\n",
    "            lista.insert(int(linea[1]),int(linea[2]))\n",
    "        elif linea[0] == 'print' :\n",
    "            print (lista)\n",
    "        elif linea[0] == 'remove' :\n",
    "            lista.remove(int(linea[1]))\n",
    "        elif linea[0] == 'append' :\n",
    "            lista.append(int(linea[1]))\n",
    "        elif linea[0] == 'sort' :\n",
    "            lista.sort()\n",
    "        elif linea[0] == 'pop' :\n",
    "            lista.pop()\n",
    "        elif linea[0] == 'reverse' :\n",
    "            lista.reverse()\n"
   ]
  },
  {
   "cell_type": "markdown",
   "metadata": {},
   "source": [
    "---\n",
    "https://www.hackerrank.com/challenges/python-tuples/problem"
   ]
  },
  {
   "cell_type": "code",
   "execution_count": null,
   "metadata": {},
   "outputs": [],
   "source": [
    "if __name__ == '__main__':\n",
    "    n = int(input())\n",
    "    integer_list = map(int, input().split())\n",
    "    \n",
    "    tupla = tuple(integer_list)\n",
    "    \n",
    "    print(hash(tupla))\n",
    "    "
   ]
  },
  {
   "cell_type": "markdown",
   "metadata": {},
   "source": [
    "---\n",
    "https://www.hackerrank.com/challenges/defaultdict-tutorial/problem"
   ]
  },
  {
   "cell_type": "code",
   "execution_count": null,
   "metadata": {},
   "outputs": [],
   "source": [
    "# Enter your code here. Read input from STDIN. Print output to STDOUT\n",
    "from collections import defaultdict\n",
    "d = defaultdict(list)\n",
    "lista=list()\n",
    "\n",
    "n, m = map(int,input().split())\n",
    "\n",
    "for x in range(0,n):\n",
    "    d[input()].append(x+1) \n",
    "\n",
    "for y in range(0,m): \n",
    "    lista.append(input())\n",
    "\n",
    "for i in lista: \n",
    "    if i in d:\n",
    "        print (\" \".join( map(str,d[i]) ))\n",
    "    else:\n",
    "        print (-1)"
   ]
  },
  {
   "cell_type": "markdown",
   "metadata": {},
   "source": [
    "---\n",
    "https://www.hackerrank.com/challenges/collections-counter/problem"
   ]
  },
  {
   "cell_type": "code",
   "execution_count": null,
   "metadata": {},
   "outputs": [],
   "source": [
    "# Enter your code here. Read input from STDIN. Print output to STDOUT\n",
    "from collections import Counter\n",
    "\n",
    "X = int(input())\n",
    "tallas = map(int,input().split())\n",
    "clientes = int(input())\n",
    "\n",
    "ventas = 0\n",
    "inventario = Counter(tallas)\n",
    "\n",
    "for zapatos in range(0,clientes) :\n",
    "    (talla, costo) = map(int, input().split())\n",
    "    if inventario[talla] > 0:\n",
    "        inventario[talla] -= 1\n",
    "        ventas += costo\n",
    "\n",
    "print (ventas)      \n",
    "   \n"
   ]
  },
  {
   "cell_type": "markdown",
   "metadata": {},
   "source": [
    "---\n",
    "https://www.hackerrank.com/challenges/minimum-swaps-2/problem?h_l=interview&playlist_slugs[]=interview-preparation-kit&playlist_slugs[]=arrays"
   ]
  },
  {
   "cell_type": "code",
   "execution_count": null,
   "metadata": {},
   "outputs": [],
   "source": [
    "#!/bin/python3\n",
    "\n",
    "def hacerSwap(lista, index1, index2):\n",
    "    lista[index1],lista[index2] = lista[index2],lista[index1]\n",
    "    return lista\n",
    "\n",
    "n = int(input())\n",
    "arr = list(map(int, input().split()))\n",
    "cambios = 0\n",
    "\n",
    "for i in range(0, n - 1):\n",
    "    while arr[i] != i + 1:\n",
    "        indice = arr.index(i+1)\n",
    "        #arr = hacerSwap(arr,indice,i)\n",
    "        arr[indice],arr[i] = arr[i],arr[indice]\n",
    "        cambios += 1\n",
    "\n",
    "print(cambios)"
   ]
  },
  {
   "cell_type": "code",
   "execution_count": null,
   "metadata": {},
   "outputs": [],
   "source": [
    "#cambiamos por el indice -1 para ponerlo en su ubicación desde el principio\n",
    "n = int(input())\n",
    "arr = list(map(int, input().split()))\n",
    "cambios = 0\n",
    "\n",
    "for i in range(0, n - 1):\n",
    "    while arr[i] != i + 1:\n",
    "        temp = arr[arr[i] - 1]\n",
    "        arr[arr[i] - 1] = arr[i]\n",
    "        arr[i] = temp\n",
    "        cambios += 1\n",
    "\n",
    "print(cambios)"
   ]
  },
  {
   "cell_type": "markdown",
   "metadata": {},
   "source": [
    "---\n",
    "https://www.hackerrank.com/challenges/floor-ceil-and-rint/problem"
   ]
  },
  {
   "cell_type": "code",
   "execution_count": null,
   "metadata": {},
   "outputs": [],
   "source": [
    "import numpy as np\n",
    "\n",
    "np.set_printoptions(sign=' ')\n",
    "array = np.array(input().split(),float)\n",
    "print (np.floor(array))\n",
    "print (np.ceil(array))\n",
    "print (np.rint(array))"
   ]
  },
  {
   "cell_type": "markdown",
   "metadata": {},
   "source": [
    "---\n",
    "https://www.hackerrank.com/challenges/ctci-bubble-sort/problem"
   ]
  },
  {
   "cell_type": "code",
   "execution_count": null,
   "metadata": {},
   "outputs": [],
   "source": [
    "#!/bin/python3\n",
    "\n",
    "import math\n",
    "import os\n",
    "import random\n",
    "import re\n",
    "import sys\n",
    "\n",
    "# Complete the countSwaps function below.\n",
    "def countSwaps(a):\n",
    "    total_cambios=0\n",
    "    for m in range(0,len(a)):\n",
    "        cambios=0\n",
    "        for j in range(0,len(a)-1):\n",
    "            if a[j] > a[j+1]:\n",
    "                a[j],a[j+1] = a[j+1],a[j]\n",
    "                cambios+=1\n",
    "        total_cambios+=cambios\n",
    "    return total_cambios\n",
    "\n",
    "if __name__ == '__main__':\n",
    "    n = int(input())\n",
    "\n",
    "    a = list(map(int, input().rstrip().split()))\n",
    "\n",
    "    conteo=countSwaps(a)\n",
    "    print('Array is sorted in '+ str(conteo) + ' swaps.')\n",
    "    print('First Element: ' + str(a[0]))\n",
    "    print('Last Element: ' + str(a[-1]))\n",
    "    \n"
   ]
  },
  {
   "cell_type": "markdown",
   "metadata": {},
   "source": [
    "---\n",
    "https://www.hackerrank.com/challenges/np-arrays/problem"
   ]
  },
  {
   "cell_type": "code",
   "execution_count": null,
   "metadata": {},
   "outputs": [],
   "source": [
    "import numpy\n",
    "\n",
    "def arrays(arr):\n",
    "    # complete this function\n",
    "    # use numpy.array\n",
    "    array=numpy.array(arr,float)\n",
    "    reversa=array[::-1]\n",
    "    return reversa\n",
    "\n",
    "arr = input().strip().split(' ')\n",
    "result = arrays(arr)\n",
    "print(result)"
   ]
  },
  {
   "cell_type": "markdown",
   "metadata": {},
   "source": [
    "---\n",
    "https://www.hackerrank.com/challenges/np-zeros-and-ones/problem"
   ]
  },
  {
   "cell_type": "code",
   "execution_count": null,
   "metadata": {},
   "outputs": [],
   "source": [
    "import numpy as np\n",
    "\n",
    "arr = list(map(int,input().strip().split(' ')))\n",
    "\n",
    "print (np.zeros(arr,dtype = np.int))\n",
    "print (np.ones(arr,dtype = np.int))"
   ]
  },
  {
   "cell_type": "code",
   "execution_count": null,
   "metadata": {},
   "outputs": [],
   "source": []
  }
 ],
 "metadata": {
  "kernelspec": {
   "display_name": "Python 3",
   "language": "python",
   "name": "python3"
  },
  "language_info": {
   "codemirror_mode": {
    "name": "ipython",
    "version": 3
   },
   "file_extension": ".py",
   "mimetype": "text/x-python",
   "name": "python",
   "nbconvert_exporter": "python",
   "pygments_lexer": "ipython3",
   "version": "3.8.1"
  }
 },
 "nbformat": 4,
 "nbformat_minor": 4
}
